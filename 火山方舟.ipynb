{
  "nbformat": 4,
  "nbformat_minor": 0,
  "metadata": {
    "colab": {
      "provenance": [],
      "authorship_tag": "ABX9TyNLjZ/OU7Y5unhEQd65CPkK",
      "include_colab_link": true
    },
    "kernelspec": {
      "name": "python3",
      "display_name": "Python 3"
    },
    "language_info": {
      "name": "python"
    }
  },
  "cells": [
    {
      "cell_type": "markdown",
      "metadata": {
        "id": "view-in-github",
        "colab_type": "text"
      },
      "source": [
        "<a href=\"https://colab.research.google.com/github/Aster110/llm-api/blob/main/%E7%81%AB%E5%B1%B1%E6%96%B9%E8%88%9F.ipynb\" target=\"_parent\"><img src=\"https://colab.research.google.com/assets/colab-badge.svg\" alt=\"Open In Colab\"/></a>"
      ]
    },
    {
      "cell_type": "markdown",
      "source": [
        "[火山方舟密钥管理后台](https://console.volcengine.com/iam/keymanage)\n",
        "1.在火山方舟这个maas平台注册，用个人身份注册\n",
        "2.复制下AK,SK，填到下面的代码中，个人密钥。\n",
        "3.更改prompt，可以使用 moonshot的api"
      ],
      "metadata": {
        "id": "18GqUDPTU2wi"
      }
    },
    {
      "cell_type": "code",
      "source": [
        "pip install volcengine --user"
      ],
      "metadata": {
        "colab": {
          "base_uri": "https://localhost:8080/"
        },
        "id": "WOn9bFj-TOSN",
        "outputId": "cedc346e-8d22-4a61-ea90-0d478d85ffac"
      },
      "execution_count": 1,
      "outputs": [
        {
          "output_type": "stream",
          "name": "stdout",
          "text": [
            "Requirement already satisfied: volcengine in /root/.local/lib/python3.10/site-packages (1.0.123)\n",
            "Requirement already satisfied: requests>=2.25.1 in /usr/local/lib/python3.10/dist-packages (from volcengine) (2.31.0)\n",
            "Requirement already satisfied: retry==0.9.2 in /root/.local/lib/python3.10/site-packages (from volcengine) (0.9.2)\n",
            "Requirement already satisfied: pytz==2020.5 in /root/.local/lib/python3.10/site-packages (from volcengine) (2020.5)\n",
            "Requirement already satisfied: pycryptodome==3.9.9 in /root/.local/lib/python3.10/site-packages (from volcengine) (3.9.9)\n",
            "Requirement already satisfied: protobuf>=3.18.3 in /usr/local/lib/python3.10/dist-packages (from volcengine) (3.20.3)\n",
            "Requirement already satisfied: google>=3.0.0 in /root/.local/lib/python3.10/site-packages (from volcengine) (3.0.0)\n",
            "Requirement already satisfied: six>=1.0 in /usr/local/lib/python3.10/dist-packages (from volcengine) (1.16.0)\n",
            "Requirement already satisfied: decorator>=3.4.2 in /usr/local/lib/python3.10/dist-packages (from retry==0.9.2->volcengine) (4.4.2)\n",
            "Requirement already satisfied: py<2.0.0,>=1.4.26 in /root/.local/lib/python3.10/site-packages (from retry==0.9.2->volcengine) (1.11.0)\n",
            "Requirement already satisfied: beautifulsoup4 in /usr/local/lib/python3.10/dist-packages (from google>=3.0.0->volcengine) (4.11.2)\n",
            "Requirement already satisfied: charset-normalizer<4,>=2 in /usr/local/lib/python3.10/dist-packages (from requests>=2.25.1->volcengine) (3.3.2)\n",
            "Requirement already satisfied: idna<4,>=2.5 in /usr/local/lib/python3.10/dist-packages (from requests>=2.25.1->volcengine) (3.6)\n",
            "Requirement already satisfied: urllib3<3,>=1.21.1 in /usr/local/lib/python3.10/dist-packages (from requests>=2.25.1->volcengine) (2.0.7)\n",
            "Requirement already satisfied: certifi>=2017.4.17 in /usr/local/lib/python3.10/dist-packages (from requests>=2.25.1->volcengine) (2023.11.17)\n",
            "Requirement already satisfied: soupsieve>1.2 in /usr/local/lib/python3.10/dist-packages (from beautifulsoup4->google>=3.0.0->volcengine) (2.5)\n"
          ]
        }
      ]
    },
    {
      "cell_type": "code",
      "source": [
        "from volcengine.maas import MaasService, MaasException, ChatRole\n",
        "\n",
        "VOLC_ACCESSKEY = \"\"\n",
        "VOLC_SECRETKEY = \"\"\n",
        "\n",
        "def test_chat(maas, req):\n",
        "    try:\n",
        "        resp = maas.chat(req)\n",
        "        print(resp)\n",
        "        print(resp.choice.message.content)\n",
        "    except MaasException as e:\n",
        "        print(e)\n",
        "\n",
        "\n",
        "def test_stream_chat(maas, req):\n",
        "    try:\n",
        "        resps = maas.stream_chat(req)\n",
        "        for resp in resps:\n",
        "            # print(resp)\n",
        "            print(resp.choice.message.content, end = \"\")\n",
        "    except MaasException as e:\n",
        "        print(e)\n",
        "\n",
        "\n",
        "\n",
        "maas = MaasService('maas-api.ml-platform-cn-beijing.volces.com', 'cn-beijing')\n",
        "\n",
        "maas.set_ak(VOLC_ACCESSKEY)\n",
        "maas.set_sk(VOLC_SECRETKEY)\n",
        "\n",
        "# document: \"https://www.volcengine.com/docs/82379/1099475\"\n",
        "req = {\n",
        "    \"model\": {\n",
        "        \"name\": \"moonshot-v1-8k\",\n",
        "        \"version\": \"1.0\", # use default version if not specified.\n",
        "    },\n",
        "    \"parameters\": {\n",
        "        \"max_new_tokens\": 1000,  # 输出文本的最大tokens限制，max_new_tokens + input_length <= max_input_size\n",
        "        \"temperature\": 0.7,  # 用于控制生成文本的随机性和创造性，Temperature值越大随机性越大，取值范围0~1\n",
        "        \"top_p\": 0.9,  # 用于控制输出tokens的多样性，TopP值越大输出的tokens类型越丰富，取值范围0~1\n",
        "    },\n",
        "    \"messages\": [\n",
        "        {\n",
        "            \"role\": ChatRole.USER,\n",
        "            \"content\": \"鲁迅为何暴打周树人\"\n",
        "        }\n",
        "    ]\n",
        "}\n",
        "\n",
        "# test_chat(maas, req)\n",
        "test_stream_chat(maas, req)"
      ],
      "metadata": {
        "colab": {
          "base_uri": "https://localhost:8080/"
        },
        "id": "G9fHG9u8TaKH",
        "outputId": "e4d2a8cb-c141-4981-980b-d1eae8630454"
      },
      "execution_count": 6,
      "outputs": [
        {
          "output_type": "stream",
          "name": "stdout",
          "text": [
            " 鲁迅和周树人其实是同一个人。鲁迅（1881年9月25日－1936年10月19日），原名周樟寿，后改名周树人，是中国近现代著名的文学家、思想家、革命家。他是中国新文化运动的重要领导者之一，被誉为“文学巨匠”。\n",
            "\n",
            "所以，鲁迅暴打周树人这个说法是不成立的，因为他们是同一个人。这种说法可能是出于幽默或者误解。"
          ]
        }
      ]
    }
  ]
}